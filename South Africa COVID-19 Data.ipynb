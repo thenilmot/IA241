{
 "cells": [
  {
   "cell_type": "markdown",
   "id": "547d8ec4",
   "metadata": {},
   "source": [
    "# Analyzing South African COVID-19 Data"
   ]
  },
  {
   "cell_type": "markdown",
   "id": "378b4dde",
   "metadata": {},
   "source": [
    "![South African Flag](https://upload.wikimedia.org/wikipedia/commons/thumb/a/af/Flag_of_South_Africa.svg/1200px-Flag_of_South_Africa.svg.png)"
   ]
  },
  {
   "cell_type": "markdown",
   "id": "ab9dc8ef",
   "metadata": {},
   "source": [
    "## Background of COVID-19"
   ]
  },
  {
   "cell_type": "markdown",
   "id": "92d9f450",
   "metadata": {},
   "source": [
    "COVID-19 is an infectious disease caused by a newly discovered coronavirus. Most people infected with the COVID-19 virus will experience mild to moderate respiratory illness and recover without requiring special treatment. The best way to prevent and slow the spread of the disease is stay informed about the disease."
   ]
  },
  {
   "cell_type": "markdown",
   "id": "c9a6c785",
   "metadata": {},
   "source": [
    "## Data Source"
   ]
  },
  {
   "cell_type": "markdown",
   "id": "0af515b8",
   "metadata": {},
   "source": [
    "Data retrieved from [European Centre for Disease Prevention and Control](https://www.ecdc.europa.eu/en/covid-19)"
   ]
  },
  {
   "cell_type": "markdown",
   "id": "7d34761c",
   "metadata": {},
   "source": [
    "## Data in South Africa"
   ]
  },
  {
   "cell_type": "code",
   "execution_count": 3,
   "id": "8a018b64",
   "metadata": {},
   "outputs": [],
   "source": [
    "%matplotlib inline\n",
    "import pandas"
   ]
  },
  {
   "cell_type": "code",
   "execution_count": 16,
   "id": "08a614c5",
   "metadata": {},
   "outputs": [
    {
     "data": {
      "text/html": [
       "<div>\n",
       "<style scoped>\n",
       "    .dataframe tbody tr th:only-of-type {\n",
       "        vertical-align: middle;\n",
       "    }\n",
       "\n",
       "    .dataframe tbody tr th {\n",
       "        vertical-align: top;\n",
       "    }\n",
       "\n",
       "    .dataframe thead th {\n",
       "        text-align: right;\n",
       "    }\n",
       "</style>\n",
       "<table border=\"1\" class=\"dataframe\">\n",
       "  <thead>\n",
       "    <tr style=\"text-align: right;\">\n",
       "      <th></th>\n",
       "      <th>dateRep</th>\n",
       "      <th>day</th>\n",
       "      <th>month</th>\n",
       "      <th>year</th>\n",
       "      <th>cases</th>\n",
       "      <th>deaths</th>\n",
       "      <th>countriesAndTerritories</th>\n",
       "      <th>geoId</th>\n",
       "      <th>countryterritoryCode</th>\n",
       "      <th>popData2019</th>\n",
       "      <th>continentExp</th>\n",
       "      <th>Cumulative_number_for_14_days_of_COVID-19_cases_per_100000</th>\n",
       "    </tr>\n",
       "  </thead>\n",
       "  <tbody>\n",
       "    <tr>\n",
       "      <th>51838</th>\n",
       "      <td>2020-12-14</td>\n",
       "      <td>14</td>\n",
       "      <td>12</td>\n",
       "      <td>2020</td>\n",
       "      <td>7999</td>\n",
       "      <td>170</td>\n",
       "      <td>South_Africa</td>\n",
       "      <td>ZA</td>\n",
       "      <td>ZAF</td>\n",
       "      <td>58558267.0</td>\n",
       "      <td>Africa</td>\n",
       "      <td>125.109577</td>\n",
       "    </tr>\n",
       "    <tr>\n",
       "      <th>51839</th>\n",
       "      <td>2020-12-13</td>\n",
       "      <td>13</td>\n",
       "      <td>12</td>\n",
       "      <td>2020</td>\n",
       "      <td>7882</td>\n",
       "      <td>154</td>\n",
       "      <td>South_Africa</td>\n",
       "      <td>ZA</td>\n",
       "      <td>ZAF</td>\n",
       "      <td>58558267.0</td>\n",
       "      <td>Africa</td>\n",
       "      <td>115.826515</td>\n",
       "    </tr>\n",
       "    <tr>\n",
       "      <th>51840</th>\n",
       "      <td>2020-12-12</td>\n",
       "      <td>12</td>\n",
       "      <td>12</td>\n",
       "      <td>2020</td>\n",
       "      <td>8319</td>\n",
       "      <td>205</td>\n",
       "      <td>South_Africa</td>\n",
       "      <td>ZA</td>\n",
       "      <td>ZAF</td>\n",
       "      <td>58558267.0</td>\n",
       "      <td>Africa</td>\n",
       "      <td>107.827645</td>\n",
       "    </tr>\n",
       "    <tr>\n",
       "      <th>51841</th>\n",
       "      <td>2020-12-11</td>\n",
       "      <td>11</td>\n",
       "      <td>12</td>\n",
       "      <td>2020</td>\n",
       "      <td>8166</td>\n",
       "      <td>173</td>\n",
       "      <td>South_Africa</td>\n",
       "      <td>ZA</td>\n",
       "      <td>ZAF</td>\n",
       "      <td>58558267.0</td>\n",
       "      <td>Africa</td>\n",
       "      <td>99.376233</td>\n",
       "    </tr>\n",
       "    <tr>\n",
       "      <th>51842</th>\n",
       "      <td>2020-12-10</td>\n",
       "      <td>10</td>\n",
       "      <td>12</td>\n",
       "      <td>2020</td>\n",
       "      <td>6709</td>\n",
       "      <td>142</td>\n",
       "      <td>South_Africa</td>\n",
       "      <td>ZA</td>\n",
       "      <td>ZAF</td>\n",
       "      <td>58558267.0</td>\n",
       "      <td>Africa</td>\n",
       "      <td>90.672082</td>\n",
       "    </tr>\n",
       "    <tr>\n",
       "      <th>51843</th>\n",
       "      <td>2020-12-09</td>\n",
       "      <td>9</td>\n",
       "      <td>12</td>\n",
       "      <td>2020</td>\n",
       "      <td>4011</td>\n",
       "      <td>183</td>\n",
       "      <td>South_Africa</td>\n",
       "      <td>ZA</td>\n",
       "      <td>ZAF</td>\n",
       "      <td>58558267.0</td>\n",
       "      <td>Africa</td>\n",
       "      <td>84.765145</td>\n",
       "    </tr>\n",
       "    <tr>\n",
       "      <th>51844</th>\n",
       "      <td>2020-12-08</td>\n",
       "      <td>8</td>\n",
       "      <td>12</td>\n",
       "      <td>2020</td>\n",
       "      <td>3313</td>\n",
       "      <td>43</td>\n",
       "      <td>South_Africa</td>\n",
       "      <td>ZA</td>\n",
       "      <td>ZAF</td>\n",
       "      <td>58558267.0</td>\n",
       "      <td>Africa</td>\n",
       "      <td>82.172855</td>\n",
       "    </tr>\n",
       "    <tr>\n",
       "      <th>51845</th>\n",
       "      <td>2020-12-07</td>\n",
       "      <td>7</td>\n",
       "      <td>12</td>\n",
       "      <td>2020</td>\n",
       "      <td>4116</td>\n",
       "      <td>139</td>\n",
       "      <td>South_Africa</td>\n",
       "      <td>ZA</td>\n",
       "      <td>ZAF</td>\n",
       "      <td>58558267.0</td>\n",
       "      <td>Africa</td>\n",
       "      <td>80.067260</td>\n",
       "    </tr>\n",
       "    <tr>\n",
       "      <th>51846</th>\n",
       "      <td>2020-12-06</td>\n",
       "      <td>6</td>\n",
       "      <td>12</td>\n",
       "      <td>2020</td>\n",
       "      <td>4645</td>\n",
       "      <td>104</td>\n",
       "      <td>South_Africa</td>\n",
       "      <td>ZA</td>\n",
       "      <td>ZAF</td>\n",
       "      <td>58558267.0</td>\n",
       "      <td>Africa</td>\n",
       "      <td>76.914844</td>\n",
       "    </tr>\n",
       "    <tr>\n",
       "      <th>51847</th>\n",
       "      <td>2020-12-05</td>\n",
       "      <td>5</td>\n",
       "      <td>12</td>\n",
       "      <td>2020</td>\n",
       "      <td>4932</td>\n",
       "      <td>160</td>\n",
       "      <td>South_Africa</td>\n",
       "      <td>ZA</td>\n",
       "      <td>ZAF</td>\n",
       "      <td>58558267.0</td>\n",
       "      <td>Africa</td>\n",
       "      <td>73.501151</td>\n",
       "    </tr>\n",
       "  </tbody>\n",
       "</table>\n",
       "</div>"
      ],
      "text/plain": [
       "         dateRep  day  month  year  cases  deaths countriesAndTerritories  \\\n",
       "51838 2020-12-14   14     12  2020   7999     170            South_Africa   \n",
       "51839 2020-12-13   13     12  2020   7882     154            South_Africa   \n",
       "51840 2020-12-12   12     12  2020   8319     205            South_Africa   \n",
       "51841 2020-12-11   11     12  2020   8166     173            South_Africa   \n",
       "51842 2020-12-10   10     12  2020   6709     142            South_Africa   \n",
       "51843 2020-12-09    9     12  2020   4011     183            South_Africa   \n",
       "51844 2020-12-08    8     12  2020   3313      43            South_Africa   \n",
       "51845 2020-12-07    7     12  2020   4116     139            South_Africa   \n",
       "51846 2020-12-06    6     12  2020   4645     104            South_Africa   \n",
       "51847 2020-12-05    5     12  2020   4932     160            South_Africa   \n",
       "\n",
       "      geoId countryterritoryCode  popData2019 continentExp  \\\n",
       "51838    ZA                  ZAF   58558267.0       Africa   \n",
       "51839    ZA                  ZAF   58558267.0       Africa   \n",
       "51840    ZA                  ZAF   58558267.0       Africa   \n",
       "51841    ZA                  ZAF   58558267.0       Africa   \n",
       "51842    ZA                  ZAF   58558267.0       Africa   \n",
       "51843    ZA                  ZAF   58558267.0       Africa   \n",
       "51844    ZA                  ZAF   58558267.0       Africa   \n",
       "51845    ZA                  ZAF   58558267.0       Africa   \n",
       "51846    ZA                  ZAF   58558267.0       Africa   \n",
       "51847    ZA                  ZAF   58558267.0       Africa   \n",
       "\n",
       "       Cumulative_number_for_14_days_of_COVID-19_cases_per_100000  \n",
       "51838                                         125.109577           \n",
       "51839                                         115.826515           \n",
       "51840                                         107.827645           \n",
       "51841                                          99.376233           \n",
       "51842                                          90.672082           \n",
       "51843                                          84.765145           \n",
       "51844                                          82.172855           \n",
       "51845                                          80.067260           \n",
       "51846                                          76.914844           \n",
       "51847                                          73.501151           "
      ]
     },
     "execution_count": 16,
     "metadata": {},
     "output_type": "execute_result"
    }
   ],
   "source": [
    "df = pandas.read_excel('s3://tomlin-ia241/COVID-19-geographic-disbtribution-worldwide-2020-12-14.xls')\n",
    "South_Africa_Data=df.loc[df['countriesAndTerritories']=='South_Africa']\n",
    "South_Africa_Data[:10]"
   ]
  },
  {
   "cell_type": "markdown",
   "id": "6b6df125",
   "metadata": {},
   "source": [
    "### Overall Infection Rate Trend in South Africa"
   ]
  },
  {
   "cell_type": "code",
   "execution_count": 11,
   "id": "9a313a57",
   "metadata": {},
   "outputs": [
    {
     "data": {
      "text/plain": [
       "<AxesSubplot:xlabel='dateRep'>"
      ]
     },
     "execution_count": 11,
     "metadata": {},
     "output_type": "execute_result"
    },
    {
     "data": {
      "image/png": "[encoded data removed]",
      "text/plain": [
       "<Figure size 432x288 with 1 Axes>"
      ]
     },
     "metadata": {
      "needs_background": "light"
     },
     "output_type": "display_data"
    }
   ],
   "source": [
    "South_Africa_Data.sort_values(by=['dateRep']).plot(x='dateRep',y='Cumulative_number_for_14_days_of_COVID-19_cases_per_100000')"
   ]
  },
  {
   "cell_type": "markdown",
   "id": "0bc774d1",
   "metadata": {},
   "source": [
    "### Confirmed Deaths as of December 2020"
   ]
  },
  {
   "cell_type": "code",
   "execution_count": 13,
   "id": "ca9f9fbf",
   "metadata": {},
   "outputs": [
    {
     "data": {
      "text/plain": [
       "month\n",
       "3        3\n",
       "4      100\n",
       "5      540\n",
       "6     1886\n",
       "7     5283\n",
       "8     6216\n",
       "9     2639\n",
       "10    2563\n",
       "11    2247\n",
       "12    1799\n",
       "Name: deaths, dtype: int64"
      ]
     },
     "execution_count": 13,
     "metadata": {},
     "output_type": "execute_result"
    }
   ],
   "source": [
    "month_deaths=South_Africa_Data.groupby('month').sum()['deaths']\n",
    "month_deaths[:]"
   ]
  },
  {
   "cell_type": "code",
   "execution_count": 14,
   "id": "f2fca488",
   "metadata": {},
   "outputs": [
    {
     "data": {
      "text/plain": [
       "<AxesSubplot:xlabel='month'>"
      ]
     },
     "execution_count": 14,
     "metadata": {},
     "output_type": "execute_result"
    },
    {
     "data": {
      "image/png": "[encoded data removed]",
      "text/plain": [
       "<Figure size 432x288 with 1 Axes>"
      ]
     },
     "metadata": {
      "needs_background": "light"
     },
     "output_type": "display_data"
    }
   ],
   "source": [
    "month_deaths.plot.bar()"
   ]
  },
  {
   "cell_type": "markdown",
   "id": "1a859b15",
   "metadata": {},
   "source": [
    "### Correlation Between Deaths and Cases in South Africa"
   ]
  },
  {
   "cell_type": "code",
   "execution_count": 15,
   "id": "cd85064b",
   "metadata": {},
   "outputs": [
    {
     "data": {
      "text/plain": [
       "<AxesSubplot:xlabel='cases', ylabel='deaths'>"
      ]
     },
     "execution_count": 15,
     "metadata": {},
     "output_type": "execute_result"
    },
    {
     "data": {
      "image/png": "[encoded data removed]",
      "text/plain": [
       "<Figure size 432x288 with 1 Axes>"
      ]
     },
     "metadata": {
      "needs_background": "light"
     },
     "output_type": "display_data"
    }
   ],
   "source": [
    "South_Africa_Data.plot.scatter(x='cases', y='deaths')"
   ]
  },
  {
   "cell_type": "markdown",
   "id": "05017872",
   "metadata": {},
   "source": [
    "## Explanation of Calculations\n",
    "In order to obtain the data, I first defined what the data was, so it did not index the entire excel file. I defined the data to only encompass the data from South Africa. I then, for the infection rate trend, sorted the data by date and rate, and then plotted it with a line graph. For confirmed deaths, I defined the data by naming it 'month_deaths,' and then grouped the COVID-19 data by months and deaths. I then plotted that data with a bar graph, because that was the best option for that data. For the correlation between deaths and cases, I just plotted the cases and deaths in a scatter plot diagram."
   ]
  },
  {
   "cell_type": "markdown",
   "id": "be62508c",
   "metadata": {},
   "source": [
    "## Interpretation of Visualizations\n",
    "In the first graph, the data shows the rate of infection from April 2020 to December 2020. The data increased between May and September, with the highest infection rate being between July and August.\n",
    "\n",
    "In the second graph, we can see the confirmed number of deaths in South Africa by month, with the highest amount being in August, which coincides with the data calculated prior.\n",
    "\n",
    "In the final graph, the data shows the relationship between the number of deaths and cases in South Africa."
   ]
  },
  {
   "cell_type": "markdown",
   "id": "f0b7416b",
   "metadata": {},
   "source": [
    "## By: Elijah Tomlin\n",
    "Email: entomlin@gmail.com\n",
    "Number: 703-577-2618"
   ]
  },
  {
   "cell_type": "markdown",
   "id": "ad333f44",
   "metadata": {},
   "source": [
    "## Conclusion\n",
    "This data shows some of the important data pertaining to COVID-19 data in South Africa. Some limitations of this project include my novice experience in python, as the only exposure I have in python is from this class. Adding more data to the project will definitely improve it greatly, as well as obtaining more python."
   ]
  },
  {
   "cell_type": "code",
   "execution_count": null,
   "id": "5e34e91f",
   "metadata": {},
   "outputs": [],
   "source": []
  }
 ],
 "metadata": {
  "kernelspec": {
   "display_name": "conda_python3",
   "language": "python",
   "name": "conda_python3"
  },
  "language_info": {
   "codemirror_mode": {
    "name": "ipython",
    "version": 3
   },
   "file_extension": ".py",
   "mimetype": "text/x-python",
   "name": "python",
   "nbconvert_exporter": "python",
   "pygments_lexer": "ipython3",
   "version": "3.6.13"
  }
 },
 "nbformat": 4,
 "nbformat_minor": 5
}
